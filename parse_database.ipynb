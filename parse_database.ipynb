{
 "cells": [
  {
   "cell_type": "code",
   "execution_count": 1,
   "metadata": {},
   "outputs": [
    {
     "data": {
      "text/plain": [
       "'FUNCTION GHSERAG    298.15  -7209.512+118.202013*T-23.8463314*T*LN(T)-.001790585*T**2-3.98587E-07*T**3-12011*T**(-1);          1234.93  Y -15095.252+190.266404*T-33.472*T*LN(T)+1.412E+29*T**(-9); 3000   N '"
      ]
     },
     "execution_count": 1,
     "metadata": {},
     "output_type": "execute_result"
    }
   ],
   "source": [
    "import re\n",
    "from sympy import symbols, sympify, log\n",
    "\n",
    "database_string = '''\n",
    "ELEMENT /-   ELECTRON_GAS              0.0000E+00  0.0000E+00  0.0000E+00!\n",
    "ELEMENT VA   VACUUM                    0.0000E+00  0.0000E+00  0.0000E+00!\n",
    "ELEMENT AL   FCC_A1                    2.6982E+01  4.5773E+03  2.8322E+01!\n",
    "ELEMENT CA   FCC_A1                    4.0078E+01  6.1965E+03  4.1589E+01!\n",
    "\n",
    "SPECIES  AL2CA  AL2CA1  !\n",
    "\n",
    "$ ------------------------------------------------------------------------------\n",
    "TYPE_DEFINITION % SEQ *!\n",
    "DEFINE_SYSTEM_DEFAULT ELEMENT 2 !\n",
    "DEFAULT_COMMAND DEF_SYS_ELEMENT VA /- !\n",
    "\n",
    "$ ------------------------------------------------------------------------------\n",
    "$ FUNCTION AL\n",
    "$ ------------------------------------------------------------------------------\n",
    "\n",
    "FUNCTION GHSERAG    298.15  -7209.512+118.202013*T-23.8463314*T*LN(T)-.001790585*T**2-3.98587E-07*T**3-12011*T**(-1);          \n",
    "1234.93  Y -15095.252+190.266404*T-33.472*T*LN(T)+1.412E+29*T**(-9); \n",
    "3000   N !\n",
    "\n",
    "$ This is to be stripped\n",
    "$ This is to be stripped\n",
    "\n",
    "FUNCTION GHSERAGG    300.00  -23.8463314*T*LN(T)\n",
    "-.001790585*T**2-3.98587E-07*T**3-12011*T**(-1);          1234.93  Y\n",
    "-15095.252+190.266404*T-33.472*T*LN(T)+1.412E+29*T**(-9); 3000   N !\n",
    "\n",
    "FUNCTION GHSERAGG    300  -23.8463314*T*LN(T)\n",
    "-.001790585*T**2-3.98587E-07*T**3-12011*T**(-1);          1234.93  Y\n",
    "-15095.252+190.266404*T-33.472*T*LN(T)+1.412E+29*T**(-9); 3000   N !\n",
    "\n",
    "$ This is to be stripped\n",
    "$ This is to be stripped\n",
    "$ This is to be stripped\n",
    "\n",
    "'''\n",
    "\n",
    "\n",
    "def remove_comments(string):\n",
    "    database_lines = string.split('\\n')\n",
    "    database_lines_no_comments = ''\n",
    "\n",
    "    for line in database_lines:\n",
    "        if not line.startswith('$' or '\\n'):\n",
    "            database_lines_no_comments = database_lines_no_comments + line\n",
    "\n",
    "    return database_lines_no_comments\n",
    "\n",
    "def split_lines(string):\n",
    "    return string.split('!')\n",
    "\n",
    "database_string = remove_comments(database_string)\n",
    "database_lines = split_lines(database_string)\n",
    "\n",
    "database_lines[8]"
   ]
  },
  {
   "cell_type": "code",
   "execution_count": null,
   "metadata": {},
   "outputs": [],
   "source": []
  },
  {
   "cell_type": "code",
   "execution_count": 25,
   "metadata": {},
   "outputs": [],
   "source": [
    "class thermo_func:\n",
    "    def __init__(self, function_string):\n",
    "        function_line = re.compile(r'FUNCTION\\s+(\\w+)+\\s+(\\d+.\\d+)?+(.*)')\n",
    "        match = function_line.match(function_string)\n",
    "        if match:\n",
    "            self.func_name = match.group(1)\n",
    "            self.start_temp = match.group(2)\n",
    "            self.func_steps = match.group(3)\n",
    "            self.func_temps, self.func_expressions = self._split_piecewise(self.func_steps)\n",
    "\n",
    "    \n",
    "    def _split_piecewise(self, string):\n",
    "        steps = re.split(r'[;, ,Y]+', string)\n",
    "\n",
    "        func_steps_expresions = []\n",
    "        func_steps_temps = []\n",
    "\n",
    "        for line in range(0, len(steps), 2):\n",
    "            if (steps[line-1] != ('' or 'N')) and (steps[line] != ('' or 'N')) and len(steps[line]) > 0:\n",
    "                func_steps_expresions.append(steps[line - 1])\n",
    "                func_steps_temps.append(steps[line])\n",
    "\n",
    "        return func_steps_temps, func_steps_expresions\n",
    "    \n",
    "\n",
    "    def _select_temp_step(self, T):\n",
    "        experssions = self.func_expressions\n",
    "        temperatures = self.func_temps\n",
    "\n",
    "        for i, temperature in enumerate(temperatures):\n",
    "            if T <= float(temperature):\n",
    "                return(experssions[i])\n",
    "                \n",
    "        print('Error,  temperature above max of {}'.format(self.func_temps[-1]))\n",
    "\n",
    "\n",
    "    def evaluate_function(self, temperature):\n",
    "        # Define the variable\n",
    "        temp = symbols('T')\n",
    "\n",
    "        # Example string\n",
    "        expression = self._select_temp_step(temperature)\n",
    "        print(expression)\n",
    "\n",
    "        # Replace 'LN' with 'log' for natural logarithm\n",
    "        expression = expression.replace('LN', 'log')\n",
    "\n",
    "        # Convert the string to a SymPy expression\n",
    "        expr = sympify(expression)\n",
    "\n",
    "        # Substitute a value for T\n",
    "        return float(expr.subs(temp, temperature).evalf())\n",
    "    "
   ]
  },
  {
   "cell_type": "code",
   "execution_count": 36,
   "metadata": {},
   "outputs": [
    {
     "name": "stdout",
     "output_type": "stream",
     "text": [
      "-23.8463314*T*LN(T)-.001790585*T**2-3.98587E-07*T**3-12011*T**(-1)\n"
     ]
    },
    {
     "data": {
      "text/plain": [
       "-166925.8046127075"
      ]
     },
     "execution_count": 36,
     "metadata": {},
     "output_type": "execute_result"
    }
   ],
   "source": [
    "thermo_func_1 = thermo_func(database_lines[9])\n",
    "\n",
    "thermo_func_1.evaluate_function(1000)"
   ]
  },
  {
   "cell_type": "code",
   "execution_count": 10,
   "metadata": {},
   "outputs": [
    {
     "name": "stdout",
     "output_type": "stream",
     "text": [
      "-194145.375173722\n"
     ]
    }
   ],
   "source": [
    "# Define the variable\n",
    "temp = symbols('T')\n",
    "\n",
    "# Example string\n",
    "expression = thermo_func_1.func_expressions[1]\n",
    "\n",
    "# Replace 'LN' with 'log' for natural logarithm\n",
    "expression = expression.replace('LN', 'log')\n",
    "\n",
    "# Convert the string to a SymPy expression\n",
    "expr = sympify(expression)\n",
    "\n",
    "# Substitute a value for T\n",
    "value = 2500  # Example value for T\n",
    "result = expr.subs(temp, value).evalf()\n",
    "\n",
    "print(result)"
   ]
  }
 ],
 "metadata": {
  "kernelspec": {
   "display_name": ".venv",
   "language": "python",
   "name": "python3"
  },
  "language_info": {
   "codemirror_mode": {
    "name": "ipython",
    "version": 3
   },
   "file_extension": ".py",
   "mimetype": "text/x-python",
   "name": "python",
   "nbconvert_exporter": "python",
   "pygments_lexer": "ipython3",
   "version": "3.12.4"
  }
 },
 "nbformat": 4,
 "nbformat_minor": 2
}
