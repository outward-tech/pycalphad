{
 "cells": [
  {
   "cell_type": "code",
   "execution_count": 1,
   "metadata": {},
   "outputs": [],
   "source": [
    "# func_string = '''FUNCTION GLIQAL    300.00  -23.8463314*T*LN(T)\n",
    "# -.001790585*T**2-3.98587E-07*T**3-12011*T**(-1);          3000  N!\n",
    "\n",
    "# FUNCTION GLIQCA    300.00  -23.8463314*T*LN(T)\n",
    "# -.001790585*T**2-3.98587E-07*T**3-12011*T**(-1);          1234.93  Y\n",
    "# -15095.252+190.266404*T-33.472*T*LN(T)+1.412E+29*T**(-9); 1500 Y\n",
    "# 200000000 ; 3000  N !\n",
    "\n",
    "# FUNCTION GHSERSAGG1    300.00  -23.8463314*T*LN(T)\n",
    "# -.001790585*T**2-3.98587E-07*T**3-12011*T**(-1);          1234.93  Y\n",
    "# -15095.252+190.266404*T-33.472*T*LN(T)+1.412E+29*T**(-9); 3000   N !\n",
    "\n",
    "# GHSERAGG3    300.00  -23.8463314*T*LN(T)\n",
    "# -.001790585*T**2-3.98587E-07*T**3-12011*T**(-1);          1234.93  Y\n",
    "# -15095.252+190.266404*T-33.472*T*LN(T)+1.412E+29*T**(-9); 3000   N !\n",
    "\n",
    "# $ -----------------------------------------------------------------------------\n",
    "# $ PARAMETERS FOR LIQUID PHASE\n",
    "# $ -----------------------------------------------------------------------------\n",
    "#   PHASE LIQUID:L %C 1 1.0 !\n",
    "#   CONSTITUENT LIQUID :AL,AL2CA,CA: ! \n",
    "#   PARAMETER L(LIQUID,AL;0) 298.15 +GLIQAL;                            6000 N !\n",
    "#   PARAMETER L(LIQUID,CA;0) 298.15 +GLIQCA;                            6000 N !\n",
    "#   PARAMETER G(LIQUID,AL2CA;0) 298.15\n",
    "#   -77214+46.424*T+2*GLIQAL+GLIQCA;                                   6000 N !\n",
    "#   PARAMETER L(LIQUID,AL,CA;0) 298.15 -68842+25.372*T;                 6000 N !\n",
    "#   PARAMETER L(LIQUID,AL2CA,AL;0) 298.15 -30351+2.939*T;               6000 N !\n",
    "#   PARAMETER L(LIQUID,AL2CA,CA;0) 298.15 -52132+0.848*T;               6000 N !\n",
    "# $ -----------------------------------------------------------------------------\n",
    "# $ PARAMETERS FOR Another PHASE\n",
    "# $ -----------------------------------------------------------------------------\n",
    "#   PHASE ANOTHER:L % 2 1.0 1.1  !\n",
    "#   CONSTITUENT ANOTHER :AL,AL2CA,CA:AL,CA: ! \n",
    "#   PARAMETER L(ANOTHER,AL;0) 298.15 +GLIQAL*10;                            6000 N !\n",
    "#   PARAMETER L(ANOTHER,CA;0) 298.15 +GLIQCA;                            6000 N !\n",
    "#   PARAMETER G(ANOTHER,AL2CA;0) 298.15\n",
    "#    -77214+46.424*T+2*GLIQAL+GLIQCA;                                   6000 N !\n",
    "#   PARAMETER L(ANOTHER,AL,CA;0) 298.15 -68842+25.372*T;                 6000 N !\n",
    "#   PARAMETER L(ANOTHER,AL2CA,AL;0) 298.15 -30351+2.939*T;               6000 N !\n",
    "#   PARAMETER L(ANOTHER,AL2CA,CA;0) 298.15 -52132+0.848*T;               6000 N !\n",
    "# '''\n",
    "\n",
    "with open('databases/NIMS_alsi.TDB') as file:\n",
    "    db_string = file.read()"
   ]
  },
  {
   "cell_type": "code",
   "execution_count": 17,
   "metadata": {},
   "outputs": [],
   "source": [
    "from src.functions import thermo_func\n",
    "from src.parameter import Parameter\n",
    "from src.helper_functions import *\n",
    "from src.phase import Phase\n",
    "from src.models import Ideal_solution_model\n",
    "\n",
    "import re\n",
    "\n",
    "class System:\n",
    "    def __init__(self, string):\n",
    "        self.database_string = remove_comments(string)\n",
    "        self.database_lines = split_lines(self.database_string)\n",
    "\n",
    "        self.function_list, self.param_list, self.phase_list = self._parse_database(self.database_lines)\n",
    "\n",
    "    def _parse_database(self, lines):\n",
    "        \n",
    "        temp_function_list = []\n",
    "        temp_param_list = []\n",
    "        temp_phase_list = []\n",
    "\n",
    "        for line in lines:\n",
    "            if 'FUNCTION' in line:\n",
    "                temp_function_list.append(thermo_func(line))\n",
    "        for line in lines:\n",
    "            if 'PARAMETER' in line:\n",
    "                # print('Parameter: ', line)\n",
    "                temp_param_list.append(Parameter(line, temp_function_list))\n",
    "        for line in lines:\n",
    "            if 'PHASE' in line:\n",
    "                match = re.search(r'\\s?+PHASE\\s(\\S+):?([G, A, Y, L, I, F, B])?\\s+(\\S+)\\s+(\\d)\\s+(.+)\\s+', line)\n",
    "                sublattice_match = re.findall(r'\\d+\\.\\d+', line)\n",
    "                if match:\n",
    "                    if sublattice_match:\n",
    "                        phase_name = match.group(1)\n",
    "                        g_phase_type_code = match.group(2)\n",
    "                        data_type_code = match.group(3)\n",
    "                        num_sub_lattices = match.group(4)\n",
    "                        sub_lattice_sites_list = sublattice_match\n",
    "\n",
    "                        temp_phase_list.append(\n",
    "                            Phase(\n",
    "                                phase_name,\n",
    "                                g_phase_type_code,\n",
    "                                data_type_code,\n",
    "                                num_sub_lattices,\n",
    "                                sub_lattice_sites_list,\n",
    "                                temp_param_list\n",
    "                            )\n",
    "                        )\n",
    "\n",
    "                        # print('test', temp_function_list)\n",
    "\n",
    "            if 'CONSTITUENT' in line:\n",
    "                print('Constitituent: ', line)\n",
    "                match = re.search(r'\\s+?CONSTITUENT\\s{}\\s:(\\S+):'.format(temp_phase_list[-1].name), line)\n",
    "                \n",
    "                species_list = []\n",
    "                if match:\n",
    "                        species = match.group(1)\n",
    "                        species = species.split(':')\n",
    "                        sub_lattice = []\n",
    "\n",
    "                        for i in species:\n",
    "                            sub_lattice = i.split(',')\n",
    "                            # print(sub_lattice)\n",
    "                            species_list.append(sub_lattice)\n",
    "                \n",
    "                temp_phase_list[-1].set_species(species_list)\n",
    "        \n",
    "\n",
    "        return temp_function_list, temp_param_list, temp_phase_list\n",
    "\n",
    "\n",
    "    def set_models(self, model_list):\n",
    "        for i, phase in enumerate(self.phase_list):\n",
    "            phase.set_model(model_list[i], self.T)\n",
    "\n",
    "\n",
    "    def set_conditions(self, temperature, pressure):\n",
    "\n",
    "        self.T = temperature\n",
    "        self.P = pressure\n",
    "        for phase in self.phase_list:\n",
    "            phase.calc_parameters(temperature)\n",
    "\n",
    "    def calc_gibbs(self, const_list):\n",
    "        self.gibbs = 0\n",
    "\n",
    "        for i, phase in enumerate(self.phase_list):\n",
    "            self.gibbs = self.gibbs + (phase.calc_model(const_list[i]))\n",
    "\n",
    "        return self.gibbs\n",
    "\n",
    "\n"
   ]
  },
  {
   "cell_type": "code",
   "execution_count": 16,
   "metadata": {},
   "outputs": [
    {
     "name": "stdout",
     "output_type": "stream",
     "text": [
      "Constitituent:  CONSTITUENT LIQUID:L :AL,SI:  \n",
      "Constitituent:  CONSTITUENT DIAMOND_A4  :AL,SI:  \n",
      "Constitituent:  CONSTITUENT FCC_A1  :AL,SI:  \n",
      "[0.1, 0.5] [<src.parameter.Parameter object at 0x00000178EE4C9670>, <src.parameter.Parameter object at 0x00000178EE4CBDD0>, <src.parameter.Parameter object at 0x00000178EE4CB860>, <src.parameter.Parameter object at 0x00000178EE4C9490>, <src.parameter.Parameter object at 0x00000178EE4CBA70>]\n",
      "[5, 10] [<src.parameter.Parameter object at 0x00000178EE4CADE0>, <src.parameter.Parameter object at 0x00000178EE4C8BC0>, <src.parameter.Parameter object at 0x00000178EE4C9160>]\n",
      "[0, 10] [<src.parameter.Parameter object at 0x00000178EE4CA2D0>, <src.parameter.Parameter object at 0x00000178EE4CBA10>, <src.parameter.Parameter object at 0x00000178EE4C9340>]\n"
     ]
    },
    {
     "data": {
      "text/plain": [
       "np.float64(-3855161.935218707)"
      ]
     },
     "execution_count": 16,
     "metadata": {},
     "output_type": "execute_result"
    }
   ],
   "source": [
    "system = System(db_string)\n",
    "\n",
    "system.set_conditions(2900, 101325)\n",
    "model = Ideal_solution_model()\n",
    "models = [model, model, model]\n",
    "\n",
    "system.set_models(models, 1000000)\n",
    "\n",
    "const_array = [\n",
    "    [0.1, 0.5],\n",
    "    [5, 10], \n",
    "    [0, 10]\n",
    "]\n",
    "\n",
    "system.calc_gibbs(const_array)"
   ]
  },
  {
   "cell_type": "code",
   "execution_count": 4,
   "metadata": {},
   "outputs": [
    {
     "data": {
      "text/plain": [
       "('AL,SI',)"
      ]
     },
     "execution_count": 4,
     "metadata": {},
     "output_type": "execute_result"
    }
   ],
   "source": [
    "line ='  Constitituent:  CONSTITUENT FCC_A1  :AL,SI:'  \n",
    "\n",
    "match = re.search(r'\\s+?CONSTITUENT\\sFCC_A1\\s+:(\\S+):', line)\n",
    "match.groups()"
   ]
  }
 ],
 "metadata": {
  "kernelspec": {
   "display_name": ".venv",
   "language": "python",
   "name": "python3"
  },
  "language_info": {
   "codemirror_mode": {
    "name": "ipython",
    "version": 3
   },
   "file_extension": ".py",
   "mimetype": "text/x-python",
   "name": "python",
   "nbconvert_exporter": "python",
   "pygments_lexer": "ipython3",
   "version": "3.12.4"
  }
 },
 "nbformat": 4,
 "nbformat_minor": 2
}
