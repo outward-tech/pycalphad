{
 "cells": [
  {
   "cell_type": "code",
   "execution_count": 1,
   "metadata": {},
   "outputs": [],
   "source": []
  },
  {
   "cell_type": "code",
   "execution_count": 1,
   "metadata": {},
   "outputs": [
    {
     "name": "stdout",
     "output_type": "stream",
     "text": [
      "Constitituent:  CONSTITUENT LIQUID:L :AL,SI:  \n",
      "Constitituent:  CONSTITUENT DIAMOND_A4  :AL,SI:  \n",
      "Constitituent:  CONSTITUENT FCC_A1  :AL,SI:  \n"
     ]
    },
    {
     "data": {
      "text/plain": [
       "np.float64(-351234.94853640144)"
      ]
     },
     "execution_count": 1,
     "metadata": {},
     "output_type": "execute_result"
    }
   ],
   "source": [
    "from src.system import System\n",
    "from src.models import Ideal_solution_model\n",
    "\n",
    "with open('databases/NIMS_alsi.TDB') as file:\n",
    "    db_string = file.read()\n",
    "\n",
    "system = System(db_string)\n",
    "\n",
    "system.set_conditions(2900, 101325)\n",
    "model = Ideal_solution_model()\n",
    "models = [model, model, model]\n",
    "\n",
    "system.set_models(models)\n",
    "\n",
    "const_array = [\n",
    "    [0, 0],\n",
    "    [0, 1], \n",
    "    [1, 0]\n",
    "]\n",
    "\n",
    "system.calc_gibbs(const_array)"
   ]
  },
  {
   "cell_type": "code",
   "execution_count": 16,
   "metadata": {},
   "outputs": [
    {
     "data": {
      "text/plain": [
       "np.float64(-276454.94853640144)"
      ]
     },
     "execution_count": 16,
     "metadata": {},
     "output_type": "execute_result"
    }
   ],
   "source": [
    "const_array = [\n",
    "    [0, 0],\n",
    "    [1, 0], \n",
    "    [0, 1]\n",
    "]\n",
    "\n",
    "system.calc_gibbs(const_array)"
   ]
  }
 ],
 "metadata": {
  "kernelspec": {
   "display_name": ".venv",
   "language": "python",
   "name": "python3"
  },
  "language_info": {
   "codemirror_mode": {
    "name": "ipython",
    "version": 3
   },
   "file_extension": ".py",
   "mimetype": "text/x-python",
   "name": "python",
   "nbconvert_exporter": "python",
   "pygments_lexer": "ipython3",
   "version": "3.12.4"
  }
 },
 "nbformat": 4,
 "nbformat_minor": 2
}
