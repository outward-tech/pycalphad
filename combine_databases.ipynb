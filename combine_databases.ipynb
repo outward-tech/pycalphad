{
 "cells": [
  {
   "cell_type": "code",
   "execution_count": 2,
   "metadata": {},
   "outputs": [],
   "source": [
    "from pycalphad import Database\n",
    "from pycalphad.io import tdb"
   ]
  },
  {
   "cell_type": "code",
   "execution_count": 22,
   "metadata": {},
   "outputs": [],
   "source": [
    "db_1 = Database('alzn_mey.tdb')\n",
    "db_2 = Database('alfe_sei.TDB')"
   ]
  },
  {
   "cell_type": "code",
   "execution_count": 70,
   "metadata": {},
   "outputs": [
    {
     "name": "stdout",
     "output_type": "stream",
     "text": [
      "LIQUID\n",
      "(1.0,)\n",
      "BCC_A2\n",
      "(1.0, 3.0)\n",
      "B2_BCC\n",
      "(0.5, 0.5, 3.0)\n",
      "FCC_A1\n",
      "(1.0, 1.0)\n",
      "HCP_A3\n",
      "(1.0, 0.5)\n",
      "AL2FE\n",
      "(2.0, 1.0)\n",
      "AL13FE4\n",
      "(0.6275, 0.235, 0.1375)\n",
      "AL5FE2\n",
      "(5.0, 2.0)\n",
      "AL5FE4\n",
      "(1.0,)\n"
     ]
    },
    {
     "data": {
      "text/plain": [
       "{Species('/-', '/-1'),\n",
       " Species('AL', 'AL1'),\n",
       " 'FE',\n",
       " Species('VA', 'VA1'),\n",
       " Species('ZN', 'ZN1')}"
      ]
     },
     "execution_count": 70,
     "metadata": {},
     "output_type": "execute_result"
    }
   ],
   "source": [
    "db = db_1\n",
    "for phase in db_2.phases:\n",
    "    print(db_2.phases[phase].name)\n",
    "    print(db_2.phases[phase].sublattices)\n",
    "\n",
    "db.add_phase('LIQUID', None, [1])\n",
    "db.elements.add('FE')\n",
    "db.species.add('FE')\n",
    "db.species\n"
   ]
  }
 ],
 "metadata": {
  "kernelspec": {
   "display_name": ".venv",
   "language": "python",
   "name": "python3"
  },
  "language_info": {
   "codemirror_mode": {
    "name": "ipython",
    "version": 3
   },
   "file_extension": ".py",
   "mimetype": "text/x-python",
   "name": "python",
   "nbconvert_exporter": "python",
   "pygments_lexer": "ipython3",
   "version": "3.12.4"
  }
 },
 "nbformat": 4,
 "nbformat_minor": 2
}
