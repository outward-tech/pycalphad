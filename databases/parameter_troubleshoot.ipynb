{
 "cells": [
  {
   "cell_type": "code",
   "execution_count": null,
   "metadata": {},
   "outputs": [],
   "source": [
    "import re\n",
    "from sympy import symbols, sympify, log\n",
    "\n",
    "class Parameter:\n",
    "    def __init__(self, param_string, func_list):\n",
    "        pattern = r'PARAMETER [L,G]\\(([^,]+),([^;]+);([^)]*)\\)\\s+(\\d+(\\.\\d+)?)\\s+(\\S+)\\s+(\\S+)\\s+'\n",
    "        match = re.search(pattern, param_string)\n",
    "        if match:\n",
    "            self.phase = match.group(1)\n",
    "            self.species = match.group(2).split(',')\n",
    "            self.order = match.group(3)\n",
    "            self.min_temp = match.group(4)\n",
    "            self.expression = match.group(6)\n",
    "            self.max_temp = match.group(7)\n",
    "        else:\n",
    "            print('Incorrect line passed into Parameter')\n",
    "\n",
    "        self.req_functions = self._find_required_functions(func_list)\n",
    "\n",
    "    \n",
    "    def _find_required_functions(self, func_list):\n",
    "\n",
    "        temp_req_functions = []\n",
    "        for i in func_list:\n",
    "            if i.func_name in self.expression:\n",
    "                temp_req_functions.append(i)\n",
    "        \n",
    "        return temp_req_functions\n",
    "\n",
    "    def evaluate_parameter(self, temperature):\n",
    "        func_results = []\n",
    "        func_names = []\n",
    "        \n",
    "        expression = self.expression\n",
    "\n",
    "        for i in self.req_functions:\n",
    "            func_results.append(i.evaluate_function(temperature))\n",
    "            func_names.append(i.func_name)\n",
    "            expression = expression.replace(str(i.func_name), str(i.evaluate_function(temperature)))\n",
    "\n",
    "        # Define the variable\n",
    "        temp = symbols('T')\n",
    "\n",
    "        expression = expression.replace('LN', 'log')\n",
    "        expression = expression.replace(';', '')\n",
    "\n",
    "        # Convert the string to a SymPy expression\n",
    "        expr = sympify(expression)\n",
    "\n",
    "        return float(expr.subs(temp, temperature).evalf())"
   ]
  },
  {
   "cell_type": "code",
   "execution_count": null,
   "metadata": {},
   "outputs": [],
   "source": []
  }
 ],
 "metadata": {
  "language_info": {
   "name": "python"
  }
 },
 "nbformat": 4,
 "nbformat_minor": 2
}
