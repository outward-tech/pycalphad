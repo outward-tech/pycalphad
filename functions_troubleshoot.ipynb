{
 "cells": [
  {
   "cell_type": "code",
   "execution_count": 1,
   "metadata": {},
   "outputs": [],
   "source": [
    "# import re\n",
    "# from sympy import symbols, sympify, log\n",
    "\n",
    "# from src.helper_functions import *\n",
    "\n",
    "\n",
    "# class thermo_func:\n",
    "#     def __init__(self, function_string):\n",
    "#         function_line = re.compile(r'[\\s]?+FUNCTION\\s+(\\w+)+\\s+(\\d+.\\d+)\\s+(.*)')\n",
    "#         match = function_line.search(function_string)\n",
    "#         if match:\n",
    "#             self.func_name = match.group(1)\n",
    "#             self.start_temp = match.group(2)\n",
    "#             self.func_steps = match.group(3)\n",
    "#             self.func_temps, self.func_expressions = self._split_piecewise(self.func_steps)\n",
    "#         else:\n",
    "#             print('function line syntax error')\n",
    "\n",
    "    \n",
    "#     def _split_piecewise(self, string):\n",
    "#         steps = re.split(r'[;, ,Y]+', string)\n",
    "#         func_steps_expresions = []\n",
    "#         func_steps_temps = []\n",
    "\n",
    "#         for line in range(1, len(steps), 2):\n",
    "#             if (steps[line-1] != ('' or 'N')) and (steps[line] != ('' or 'N')) > 0:\n",
    "#                 func_steps_expresions.append(steps[line-1])\n",
    "#                 func_steps_temps.append(steps[line])\n",
    "\n",
    "#         return func_steps_temps, func_steps_expresions\n",
    "    \n",
    "\n",
    "#     def _select_temp_step(self, T):\n",
    "#         experssions = self.func_expressions\n",
    "#         temperatures = self.func_temps\n",
    "\n",
    "#         for i, temperature in enumerate(temperatures):\n",
    "#             if T <= float(temperature):\n",
    "#                 return(experssions[i])\n",
    "                \n",
    "#         print('Error,  temperature above max of {}'.format(self.func_temps[-1]))\n",
    "\n",
    "\n",
    "#     def evaluate_function(self, temperature):\n",
    "#         # Define the variable\n",
    "#         temp = symbols('T')\n",
    "\n",
    "#         # Example string\n",
    "#         expression = self._select_temp_step(temperature)\n",
    "#         print(expression)\n",
    "\n",
    "#         # Replace 'LN' with 'log' for natural logarithm\n",
    "#         expression = expression.replace('LN', 'log')\n",
    "\n",
    "#         # Convert the string to a SymPy expression\n",
    "#         expr = sympify(expression)\n",
    "\n",
    "#         # Substitute a value for T\n",
    "#         return float(expr.subs(temp, temperature).evalf())\n",
    "    "
   ]
  },
  {
   "cell_type": "code",
   "execution_count": 2,
   "metadata": {},
   "outputs": [],
   "source": [
    "func_string = '''FUNCTION GLIQAL    300.00  -23.8463314*T*LN(T)\n",
    "-.001790585*T**2-3.98587E-07*T**3-12011*T**(-1);          3000  N!\n",
    "\n",
    "  FUNCTION GLIQCA    300.00  -23.8463314*T*LN(T)\n",
    "-.001790585*T**2-3.98587E-07*T**3-12011*T**(-1);          1234.93  Y\n",
    "-15095.252+190.266404*T-33.472*T*LN(T)+1.412E+29*T**(-9); 1500 Y\n",
    "200000000 ; 3000  N !\n",
    "\n",
    "    FUNCTION GHSERSAGG1    300.00  -23.8463314*T*LN(T)\n",
    "-.001790585*T**2-3.98587E-07*T**3-12011*T**(-1);          1234.93  Y\n",
    "-15095.252+190.266404*T-33.472*T*LN(T)+1.412E+29*T**(-9); 3000   N !\n",
    "\n",
    "  GHSERAGG3    300.00  -23.8463314*T*LN(T)\n",
    "-.001790585*T**2-3.98587E-07*T**3-12011*T**(-1);          1234.93  Y\n",
    "-15095.252+190.266404*T-33.472*T*LN(T)+1.412E+29*T**(-9); 3000   N !'''"
   ]
  },
  {
   "cell_type": "code",
   "execution_count": null,
   "metadata": {},
   "outputs": [],
   "source": []
  },
  {
   "cell_type": "code",
   "execution_count": 3,
   "metadata": {},
   "outputs": [],
   "source": [
    "from src.functions import thermo_func\n",
    "from src.helper_functions import *"
   ]
  },
  {
   "cell_type": "code",
   "execution_count": 4,
   "metadata": {},
   "outputs": [
    {
     "data": {
      "text/plain": [
       "-40855.37055383087"
      ]
     },
     "execution_count": 4,
     "metadata": {},
     "output_type": "execute_result"
    }
   ],
   "source": [
    "string_lines = remove_comments(func_string)\n",
    "string_lines = split_lines(string_lines)\n",
    "\n",
    "func = thermo_func(string_lines[1])\n",
    "\n",
    "func.evaluate_function(299)"
   ]
  }
 ],
 "metadata": {
  "kernelspec": {
   "display_name": ".venv",
   "language": "python",
   "name": "python3"
  },
  "language_info": {
   "codemirror_mode": {
    "name": "ipython",
    "version": 3
   },
   "file_extension": ".py",
   "mimetype": "text/x-python",
   "name": "python",
   "nbconvert_exporter": "python",
   "pygments_lexer": "ipython3",
   "version": "3.12.4"
  }
 },
 "nbformat": 4,
 "nbformat_minor": 2
}
